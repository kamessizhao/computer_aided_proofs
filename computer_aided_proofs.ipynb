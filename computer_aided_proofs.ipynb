{
 "cells": [
  {
   "cell_type": "code",
   "execution_count": 1,
   "id": "69c36eb4-f8d0-40a7-811e-a8e9e4f0be01",
   "metadata": {
    "execution": {
     "iopub.execute_input": "2023-09-25T19:31:46.356000-04:00",
     "iopub.status.busy": "2023-09-25T19:31:45.859000-04:00",
     "iopub.status.idle": "2023-09-25T19:32:12.112000-04:00",
     "shell.execute_reply": "2023-09-25T19:32:12.047000-04:00"
    },
    "tags": []
   },
   "outputs": [],
   "source": [
    "using CSV\n",
    "using DataFrames\n",
    "using JuMP\n",
    "using Plots\n",
    "using Random\n",
    "using Statistics\n",
    "using LinearAlgebra\n",
    "using Distributions\n",
    "using BipartiteMatching\n",
    "using Gurobi\n",
    "using LinearAlgebra\n",
    "using SymPy\n",
    "using NLsolve\n",
    "using LaTeXStrings"
   ]
  },
  {
   "cell_type": "code",
   "execution_count": null,
   "id": "338ec6cd-b3b7-46b7-bd7a-bd092e0b8e87",
   "metadata": {},
   "outputs": [],
   "source": []
  }
 ],
 "metadata": {
  "kernelspec": {
   "display_name": "Julia 1.8.3",
   "language": "julia",
   "name": "julia-1.8"
  },
  "language_info": {
   "file_extension": ".jl",
   "mimetype": "application/julia",
   "name": "julia",
   "version": "1.8.3"
  }
 },
 "nbformat": 4,
 "nbformat_minor": 5
}
