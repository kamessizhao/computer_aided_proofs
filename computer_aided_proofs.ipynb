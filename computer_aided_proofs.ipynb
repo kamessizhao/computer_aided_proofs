{
 "cells": [
  {
   "cell_type": "code",
   "execution_count": 1,
   "id": "69c36eb4-f8d0-40a7-811e-a8e9e4f0be01",
   "metadata": {
    "execution": {
     "iopub.execute_input": "2023-09-25T19:31:46.356000-04:00",
     "iopub.status.busy": "2023-09-25T19:31:45.859000-04:00",
     "iopub.status.idle": "2023-09-25T19:32:12.112000-04:00",
     "shell.execute_reply": "2023-09-25T19:32:12.047000-04:00"
    },
    "tags": []
   },
   "outputs": [],
   "source": [
    "using CSV\n",
    "using DataFrames\n",
    "using JuMP\n",
    "using Plots\n",
    "using Random\n",
    "using Statistics\n",
    "using LinearAlgebra\n",
    "using Distributions\n",
    "using BipartiteMatching\n",
    "using Gurobi\n",
    "using LinearAlgebra\n",
    "using SymPy\n",
    "using NLsolve\n",
    "using LaTeXStrings"
   ]
  },
  {
   "cell_type": "markdown",
   "id": "1356f63b-12a2-45ee-88af-e1266f9f8159",
   "metadata": {},
   "source": [
    "# Proof of Claim 3"
   ]
  },
  {
   "cell_type": "code",
   "execution_count": 20,
   "id": "0a890c80-c508-4aed-a6d4-3b1bfbe6c5c5",
   "metadata": {
    "execution": {
     "iopub.execute_input": "2023-09-25T21:35:03.297000-04:00",
     "iopub.status.busy": "2023-09-25T21:35:03.297000-04:00",
     "iopub.status.idle": "2023-09-25T21:35:03.309000-04:00",
     "shell.execute_reply": "2023-09-25T21:35:03.308000-04:00"
    },
    "tags": []
   },
   "outputs": [
    {
     "data": {
      "text/plain": [
       "iterate_alphaf_alpha (generic function with 1 method)"
      ]
     },
     "execution_count": 20,
     "metadata": {},
     "output_type": "execute_result"
    }
   ],
   "source": [
    "# Define a function for the LB of derivative\n",
    "function lower_bound_derivative(x1, alphaf, alpha, delta1, delta2)\n",
    "    if x1 == 0\n",
    "        return exp(-(1/2) * (alpha + alphaf) * x1 + 2 * (alpha+delta1) * (alphaf+delta1) * (x1+delta2) / (alpha + alphaf)+ (2 * alpha * log(x1+delta2)) / (alpha + alphaf+2*delta1)) * 1/2 * (-alpha - alphaf-2*delta1\n",
    "            )+ (2 * (alphaf + 1/(x1+delta2))) / (alpha + alphaf+2*delta1)\n",
    "    else\n",
    "        return exp(-(1/2) * (alpha + alphaf) * x1 + 2 * (alpha+delta1) * (alphaf+delta1) * (x1+delta2) / (alpha + alphaf)+ (2 * alpha * log(x1+delta2)) / (alpha + alphaf+2*delta1)) * 1/2 * (-alpha - alphaf-2*delta1\n",
    "            )+exp(-(1/2) * (alpha + alphaf+2*delta1) * (x1+delta2) + 2 * (alpha) * (alphaf) * (x1) / (alpha + alphaf+2*delta1)+ (2 * (alpha+delta1) * log(x1)) / (alpha + alphaf)) * (\n",
    "            2 * alpha * (alphaf + 1/(x1+delta2)) / (alpha + alphaf+2*delta1)) + (2 * (alphaf + 1/(x1+delta2))) / (alpha + alphaf+2*delta1)\n",
    "    end\n",
    "end\n",
    "\n",
    "function verify_unique_solution(alphaf, alpha, delta1, delta2)\n",
    "    \n",
    "    x_intervals = 0:delta2:1.0\n",
    "    for i in 1:length(x_intervals)-1\n",
    "        x1 = x_intervals[i]\n",
    "        x2 = x_intervals[i+1]\n",
    "        f_prime_lower_bound = lower_bound_derivative(x1, alphaf, alpha, delta1, delta2)\n",
    "        \n",
    "        if f_prime_lower_bound <= 1\n",
    "            return false, \"f' <= 1 in interval [$x1, $x2]\"\n",
    "        end\n",
    "    end\n",
    "    \n",
    "    return true, \"The equation has a unique solution for x.\"\n",
    "end\n",
    "\n",
    "# Examine range of values\n",
    "function iterate_alphaf_alpha(delta1, delta2)\n",
    "    alphaf_range = 0.0001:delta1:exp(1)\n",
    "    alpha_range = 0.0:delta1:exp(1)\n",
    "    for alphaf in alphaf_range\n",
    "        for alpha in alpha_range\n",
    "            if 0 <= alpha <= alphaf && alpha + alphaf <= exp(1)\n",
    "                result, message = verify_unique_solution(alphaf, alpha, delta1, delta2)\n",
    "                # print(\"alphaf: \",alphaf,\"\\t alpha: \",alpha,\"\\t result: \",result,'\\n')\n",
    "                if result == false\n",
    "                    print(\"alphaf: \",alphaf,\"\\t alpha: \",alpha,\"\\t result: \",result,'\\n')\n",
    "                end\n",
    "            end\n",
    "        end\n",
    "    end\n",
    "end\n"
   ]
  },
  {
   "cell_type": "code",
   "execution_count": 21,
   "id": "74b12283-ef65-4651-a44c-6d7e24072c98",
   "metadata": {
    "execution": {
     "iopub.execute_input": "2023-09-25T21:35:03.642000-04:00",
     "iopub.status.busy": "2023-09-25T21:35:03.642000-04:00",
     "iopub.status.idle": "2023-09-25T21:35:03.807000-04:00",
     "shell.execute_reply": "2023-09-25T21:35:03.807000-04:00"
    },
    "tags": []
   },
   "outputs": [],
   "source": [
    "# Parameters\n",
    "delta1, delta2 = 0.01, 0.01\n",
    "\n",
    "# Iterate over alphaf and alpha ranges: nothing is returned if all alphaf, alpha and x_1 pass the verification\n",
    "iterate_alphaf_alpha(delta1, delta2)"
   ]
  },
  {
   "cell_type": "code",
   "execution_count": null,
   "id": "7adfb40c-f6f2-438b-a8a9-4504981717f2",
   "metadata": {},
   "outputs": [],
   "source": []
  }
 ],
 "metadata": {
  "kernelspec": {
   "display_name": "Julia 1.8.3",
   "language": "julia",
   "name": "julia-1.8"
  },
  "language_info": {
   "file_extension": ".jl",
   "mimetype": "application/julia",
   "name": "julia",
   "version": "1.8.3"
  }
 },
 "nbformat": 4,
 "nbformat_minor": 5
}
